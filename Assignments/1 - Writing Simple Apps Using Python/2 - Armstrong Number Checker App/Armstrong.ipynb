{
 "cells": [
  {
   "cell_type": "code",
   "execution_count": null,
   "metadata": {},
   "outputs": [],
   "source": [
    "def num_length(num):\n",
    "    res = 0\n",
    "    while num > 0:\n",
    "        res += 1\n",
    "        num //= 10\n",
    "    return res"
   ]
  },
  {
   "cell_type": "code",
   "execution_count": null,
   "metadata": {},
   "outputs": [],
   "source": [
    "def is_armstrong(num:str)->str:\n",
    "    try:\n",
    "        num = int(num)\n",
    "        length = num_length(num)\n",
    "        # creating copy so that we can check result with original number\n",
    "        copy = num\n",
    "        arm = 0\n",
    "        arm_in_string_form = '' \n",
    "        \n",
    "        while copy > 0:\n",
    "            rem = copy % 10\n",
    "            arm += rem ** length\n",
    "            arm_in_string_form = f'{rem}^{length} + ' + arm_in_string_form\n",
    "            copy //= 10\n",
    "            \n",
    "        if num == 0:\n",
    "            text1 = '0^0' + ' = ' + str(arm)\n",
    "        else:\n",
    "            text1 = arm_in_string_form[:-3] + ' = ' + str(arm)\n",
    "            \n",
    "        if arm == num:\n",
    "            text1 += f' and {arm} = {num}.'\n",
    "            text2 = f'Therefore {num} is an armstrong number.'\n",
    "        else:\n",
    "            text1 += f' and {arm} != {num}.'\n",
    "            text2 = f'Therefore {num} is not an armstrong number!'\n",
    "        \n",
    "        return text1 + '\\n' + text2\n",
    "    \n",
    "    except:\n",
    "        return 'Invalid input!'"
   ]
  },
  {
   "cell_type": "markdown",
   "metadata": {},
   "source": [
    "### This class creates a GUI that contains user input line with explained text label on the top, followed by  a check button that uses is_armstrong function and displays input with explanatory text label, and lastly a quit button to close the app with message box"
   ]
  },
  {
   "cell_type": "code",
   "execution_count": null,
   "metadata": {},
   "outputs": [],
   "source": [
    "from PyQt5.QtWidgets import QApplication, QMainWindow, QLabel, QPushButton, QLineEdit, QMessageBox\n",
    "class MainWindow(QMainWindow):\n",
    "    def __init__(self):\n",
    "        super(MainWindow, self).__init__()\n",
    "        self.setGeometry(500, 350, 500, 350)\n",
    "        self.setWindowTitle('Armstrong Number Checker')\n",
    "        self.initUI()\n",
    "    \n",
    "    def initUI(self):\n",
    "        self.input_label = QLabel(self)\n",
    "        self.input_label.setText(\"Please, enter an integer: \")\n",
    "        self.input_label.adjustSize()\n",
    "        self.input_label.move(150, 10)\n",
    "        \n",
    "        self.line_edit = QLineEdit(self)\n",
    "        self.line_edit.adjustSize()\n",
    "        self.line_edit.move(175, 30)\n",
    "        \n",
    "        self.check_button = QPushButton('Check', self)\n",
    "        self.check_button.clicked.connect(self.click_check)\n",
    "        self.check_button.move(195, 60)\n",
    "        \n",
    "        self.output_text = QLabel('Result:', self)\n",
    "        self.output_text.move(150, 90)\n",
    "        \n",
    "        self.output_label = QLabel(self)\n",
    "        self.output_label.move(175, 118)\n",
    "        \n",
    "        self.quit_button = QPushButton('Quit', self)\n",
    "        self.quit_button.clicked.connect(self.click_quit)\n",
    "        self.quit_button.move(195, 160)\n",
    "        \n",
    "        self.show()\n",
    "\n",
    "    def closeEvent(self, event):\n",
    "        close_reply=QMessageBox.question(self,'Message','Are you sure you want to quit?',QMessageBox.Yes|QMessageBox.No,QMessageBox.No )\n",
    "        if close_reply==QMessageBox.Yes:\n",
    "            event.accept()\n",
    "        else:\n",
    "            event.ignore()\n",
    "    \n",
    "    def click_quit(self):\n",
    "        quit_reply=QMessageBox.question(self,'Message','Are you sure you want to quit?',QMessageBox.Yes|QMessageBox.No,QMessageBox.No )\n",
    "        if quit_reply==QMessageBox.Yes:\n",
    "            QApplication.instance().quit()\n",
    "        else:\n",
    "            pass\n",
    "\n",
    "    def click_check(self):\n",
    "        self.output_label.setText(is_armstrong(self.line_edit.text()))\n",
    "        self.output_label.adjustSize()"
   ]
  },
  {
   "cell_type": "code",
   "execution_count": null,
   "metadata": {},
   "outputs": [],
   "source": [
    "import sys\n",
    "def main():\n",
    "    app = QApplication(sys.argv)\n",
    "    win = MainWindow()\n",
    "    sys.exit(app.exec_())"
   ]
  },
  {
   "cell_type": "code",
   "execution_count": null,
   "metadata": {},
   "outputs": [],
   "source": [
    "if __name__ == '__main__':\n",
    "    main()"
   ]
  },
  {
   "cell_type": "code",
   "execution_count": null,
   "metadata": {},
   "outputs": [],
   "source": []
  }
 ],
 "metadata": {
  "kernelspec": {
   "display_name": "Python 3 (ipykernel)",
   "language": "python",
   "name": "python3"
  },
  "language_info": {
   "codemirror_mode": {
    "name": "ipython",
    "version": 3
   },
   "file_extension": ".py",
   "mimetype": "text/x-python",
   "name": "python",
   "nbconvert_exporter": "python",
   "pygments_lexer": "ipython3",
   "version": "3.8.10"
  }
 },
 "nbformat": 4,
 "nbformat_minor": 4
}
