{
 "cells": [
  {
   "cell_type": "code",
   "execution_count": 1,
   "metadata": {},
   "outputs": [],
   "source": [
    "def roman_to_integer(roman:str) -> str:\n",
    "    # clearing white spaces\n",
    "    roman = roman.strip()\n",
    "    dic = {'I':1, 'V':5, 'X':10, 'L':50, 'C':100, 'D':500, 'M':1000}\n",
    "    res = 0\n",
    "    n = len(roman)\n",
    "    for i in range(n):\n",
    "        # check for invalid character\n",
    "        if roman[i].upper() not in dic:\n",
    "            return f'{roman[i]} is not a Roman character!'\n",
    "        \n",
    "        # check for 4 consecutive characters\n",
    "        if i < n - 3:\n",
    "            if ((roman[i].upper() == roman[i+1].upper()) and (roman[i].upper() == roman[i+2].upper()) \\\n",
    "                and (roman[i].upper() == roman[i+3].upper())):\n",
    "                return '4 consecutive characters are not allowed!'\n",
    "            \n",
    "        # check for beginning and having smaller value at the left, if it's the case\n",
    "        # we add corresponding integer for current character and subtract twice for on the left\n",
    "        if i > 0 and dic[roman[i].upper()] > dic[roman[i-1].upper()]:\n",
    "            res += dic[roman[i].upper()] - 2 * dic[roman[i-1].upper()]\n",
    "            \n",
    "        else:\n",
    "            res += dic[roman[i].upper()]\n",
    "            \n",
    "    return str(res)"
   ]
  },
  {
   "cell_type": "markdown",
   "metadata": {},
   "source": [
    "### This class creates user inerface that contains user input line explained by text label on the top, followed by convert button that uses roman_to_integer function and displays output with explanatory text label and lastly a quit button to close the app with message box"
   ]
  },
  {
   "cell_type": "code",
   "execution_count": 2,
   "metadata": {},
   "outputs": [],
   "source": [
    "from PyQt5.QtWidgets import QApplication, QMainWindow, QLabel, QPushButton, QLineEdit, QMessageBox\n",
    "class MainWindow(QMainWindow):\n",
    "    def __init__(self):\n",
    "        super(MainWindow, self).__init__()\n",
    "        self.setGeometry(500, 350, 500, 350)\n",
    "        self.setWindowTitle('Roman to Decimal Converter')\n",
    "        self.initUI()\n",
    "    \n",
    "    def initUI(self):\n",
    "        self.input_label = QLabel(self)\n",
    "        self.input_label.setText(\"Please, enter the Roman number: \")\n",
    "        self.input_label.adjustSize()\n",
    "        self.input_label.move(150, 10)\n",
    "        \n",
    "        self.line_edit = QLineEdit(self)\n",
    "        self.line_edit.adjustSize()\n",
    "        self.line_edit.move(175, 30)\n",
    "        \n",
    "        self.convert_button = QPushButton('Convert', self)\n",
    "        self.convert_button.clicked.connect(self.click_convert)\n",
    "        self.convert_button.move(195, 60)\n",
    "        \n",
    "        self.output_text = QLabel('Result:', self)\n",
    "        self.output_text.move(150, 90)\n",
    "        \n",
    "        self.output_label = QLabel(self)\n",
    "        self.output_label.move(175, 115)\n",
    "        \n",
    "        self.quit_button = QPushButton('Quit', self)\n",
    "        self.quit_button.clicked.connect(self.click_quit)\n",
    "        self.quit_button.move(195, 140)\n",
    "        \n",
    "        self.show()\n",
    "\n",
    "    def closeEvent(self, event):\n",
    "        close_reply=QMessageBox.question(self,'Message','Are you sure you want to quit?',\\\n",
    "                                         QMessageBox.Yes|QMessageBox.No,QMessageBox.No )\n",
    "        if close_reply==QMessageBox.Yes:\n",
    "            event.accept()\n",
    "        else:\n",
    "            event.ignore()\n",
    "    \n",
    "    def click_quit(self):\n",
    "        quit_reply=QMessageBox.question(self,'Message','Are you sure you want to quit?',\\\n",
    "                                        QMessageBox.Yes|QMessageBox.No,QMessageBox.No )\n",
    "        if quit_reply==QMessageBox.Yes:\n",
    "            QApplication.instance().quit()\n",
    "        else:\n",
    "            pass\n",
    "\n",
    "    def click_convert(self):\n",
    "        self.output_label.setText(roman_to_integer(self.line_edit.text()))\n",
    "        self.output_label.adjustSize()\n"
   ]
  },
  {
   "cell_type": "code",
   "execution_count": 3,
   "metadata": {},
   "outputs": [],
   "source": [
    "import sys\n",
    "def main():\n",
    "    app = QApplication(sys.argv)\n",
    "    win = MainWindow()\n",
    "    sys.exit(app.exec_())"
   ]
  },
  {
   "cell_type": "code",
   "execution_count": null,
   "metadata": {},
   "outputs": [],
   "source": [
    "if __name__ == '__main__':\n",
    "    main()"
   ]
  },
  {
   "cell_type": "code",
   "execution_count": null,
   "metadata": {},
   "outputs": [],
   "source": []
  }
 ],
 "metadata": {
  "kernelspec": {
   "display_name": "Python 3 (ipykernel)",
   "language": "python",
   "name": "python3"
  },
  "language_info": {
   "codemirror_mode": {
    "name": "ipython",
    "version": 3
   },
   "file_extension": ".py",
   "mimetype": "text/x-python",
   "name": "python",
   "nbconvert_exporter": "python",
   "pygments_lexer": "ipython3",
   "version": "3.8.10"
  }
 },
 "nbformat": 4,
 "nbformat_minor": 4
}
